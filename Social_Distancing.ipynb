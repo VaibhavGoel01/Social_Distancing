{
 "cells": [
  {
   "cell_type": "code",
   "execution_count": 1,
   "id": "dc4c1bad",
   "metadata": {},
   "outputs": [
    {
     "name": "stdout",
     "output_type": "stream",
     "text": [
      "Requirement already satisfied: opencv-python in c:\\users\\vaibh\\anaconda3\\lib\\site-packages (4.11.0.86)\n",
      "Requirement already satisfied: numpy>=1.21.2 in c:\\users\\vaibh\\anaconda3\\lib\\site-packages (from opencv-python) (1.24.4)\n",
      "Note: you may need to restart the kernel to use updated packages.\n"
     ]
    }
   ],
   "source": [
    "pip install opencv-python"
   ]
  },
  {
   "cell_type": "code",
   "execution_count": 2,
   "id": "9c5580e2",
   "metadata": {},
   "outputs": [],
   "source": [
    "import numpy as np\n",
    "import cv2\n",
    "import sys"
   ]
  },
  {
   "cell_type": "code",
   "execution_count": 5,
   "id": "09d476b3",
   "metadata": {},
   "outputs": [
    {
     "name": "stdout",
     "output_type": "stream",
     "text": [
      "Finished processing the video\n"
     ]
    }
   ],
   "source": [
    "TEXT_COLOR = (24, 201, 255)\n",
    "TRACKER_COLOR = (255, 128, 0)\n",
    "WARNING_COLOR = (24, 201, 255)\n",
    "FONT = cv2.FONT_HERSHEY_SIMPLEX\n",
    "VIDEO_SOURCE = \"videos/Pedestrians_2.mp4\"\n",
    "\n",
    "BGS_TYPES = [\"GMG\", \"MOG\", \"MOG2\", \"KNN\", \"CNT\"]\n",
    "BGS_TYPE = BGS_TYPES[2]\n",
    "\n",
    "def getKernel(KERNAL_TYPE):\n",
    "    if KERNEL_TYPE == \"dilation\":\n",
    "        kernel = cv2.getStructuringElement(cv2.MORPH_ELLIPSE, (2, 2))\n",
    "    if KERNEL_TYPE == \"opening\":\n",
    "        kernel = np.ones((3, 5), np.uint8)\n",
    "    if KERNEL_TYPE == \"closing\":\n",
    "        kernel = np.ones((11, 11), np.uint8)\n",
    "        \n",
    "    return kernel\n",
    "    \n",
    "def getFilter(img, filter):\n",
    "    if filter == \"closing\":\n",
    "        return cv2.morphologyEx(img, cv2.MORPH_CLOSE, getKernel(\"closing\"), iterations=2)\n",
    "    \n",
    "    if filter == \"opening\":\n",
    "        return cv2.morphologyEx(img, cv2.MORPH_OPEN, getKernel(\"opening\"), iterations=2)\n",
    "    \n",
    "    if filter == \"dilation\":\n",
    "        return cv2.dilate(img, getKernel(\"dilation\"), iterations=2)\n",
    "    \n",
    "    if filter == \"combine\":\n",
    "        closing = cv2.morphologyEx(img, cv2.MORPH_CLOSE, getKernel(\"closing\"), iterations=2)\n",
    "        opening = cv2.morphologyEx(img, cv2.MORPH_OPEN, getKernel(\"opening\"), iterations=2)\n",
    "        dilation = cv2.dilate(opening, getKernel(\"dilation\"), iterations=2)\n",
    "        \n",
    "        return dilation\n",
    "    \n",
    "def getBGSubtractor(BGS_TYPE):\n",
    "    if BGS_TYPE == \"GMG\":\n",
    "        return cv2.bgsegm.createBackgroundSubtractorGMG()\n",
    "    if BGS_TYPE == \"MOG\":\n",
    "        return cv2.bgsegm.createBackgroundSubtractorMOG()\n",
    "    if BGS_TYPE == \"MOG2\":\n",
    "        return cv2.createBackgroundSubtractorMOG2(detectShadows = False, varThreshold = 100)\n",
    "    if BGS_TYPE == \"KNN\":\n",
    "        return cv2.createBackgroundSubtractorKNN()\n",
    "    if BGS_TYPE == \"CNT\":\n",
    "        return cv2.bgsegm.createBackgroundSubtractorCNT()\n",
    "    print(\"Invalid detector\")\n",
    "    sys.exit(1)\n",
    "    \n",
    "cap = cv2.VideoCapture(VIDEO_SOURCE)\n",
    "bg_subtractor = getBGSubtractor(BGS_TYPE)\n",
    "minArea = 400\n",
    "maxArea = 3000\n",
    "\n",
    "\n",
    "def main():\n",
    "    while(cap.isOpened):\n",
    "        ok, frame = cap.read()\n",
    "        \n",
    "        if not ok:\n",
    "            print(\"Finished processing the video\")\n",
    "            break;\n",
    "            \n",
    "        frame = cv2.resize(frame, (0, 0), fx = 0.50, fy = 0.50)\n",
    "        bg_mask = bg_subtractor.apply(frame)\n",
    "        bg_mask = getFilter(bg_mask, 'combine')\n",
    "        bg_mask = cv2.medianBlur(bg_mask, 5)\n",
    "        (contours, hierarchy) = cv2.findContours(bg_mask, cv2.RETR_EXTERNEL, cv2.CHAIN_APPROX_SIMPLE)\n",
    "        for cnt in contours:\n",
    "            area = cv2.contourArea(cnt)\n",
    "            if(area >= minArea):\n",
    "                x, y, w, h = cv2.boundingRect(cnt)\n",
    "                cv2.drawContours(frame, cnt, 1, TRACKER_COLOR, 10)\n",
    "                cv2.drawContours(frame, cnt, 1, (255, 255, 255), 1)\n",
    "                \n",
    "                if area >= maxArea:\n",
    "                    cv2.rectangle(frame, (x, y), (x + 120, y - 13), (49, 49, 49), -1)\n",
    "                    cv2.putText(frame, 'Warning', (x, y - 2), FONT, 0.4, (255, 255, 255), 1, cv2.LINE_AA)\n",
    "                    cv2.drawContours(frame, [cnt], -1, WARNING_COLOR, 2)\n",
    "                    cv2.drawContours(frame, [cnt], -1, WARNING_COLOR, 1)\n",
    "        \n",
    "        res = cv2.bitwise_and(frame, frame, mask = bg_mask)\n",
    "        \n",
    "        cv2.putText(res, BGS_TYPE, (10, 50), FONT, 1, (255, 255, 255), 3, cv2.LINE_AA)\n",
    "        cv2.putText(res, BGS_TYPE, (10, 50), FONT, 1, (255, 255, 255), 2,cv2.LINE_AA)\n",
    "        \n",
    "        cv2.inshow('Frame', frame)\n",
    "        cv2.imshow('Mask', res)\n",
    "        \n",
    "        if cv2.waitKey(1) & 0xFF == ord(\"q\"):\n",
    "            break\n",
    "            \n",
    "main()"
   ]
  },
  {
   "cell_type": "code",
   "execution_count": null,
   "id": "7afe7ec6",
   "metadata": {},
   "outputs": [],
   "source": []
  }
 ],
 "metadata": {
  "kernelspec": {
   "display_name": "Python 3 (ipykernel)",
   "language": "python",
   "name": "python3"
  },
  "language_info": {
   "codemirror_mode": {
    "name": "ipython",
    "version": 3
   },
   "file_extension": ".py",
   "mimetype": "text/x-python",
   "name": "python",
   "nbconvert_exporter": "python",
   "pygments_lexer": "ipython3",
   "version": "3.11.5"
  }
 },
 "nbformat": 4,
 "nbformat_minor": 5
}
